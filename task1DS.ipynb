{
 "cells": [
  {
   "cell_type": "markdown",
   "id": "f18e6bba-4bea-46e7-a798-b1208984a465",
   "metadata": {},
   "source": [
    "# List"
   ]
  },
  {
   "cell_type": "code",
   "execution_count": null,
   "id": "5afc263b-e774-4f5d-8b1b-b884f68ed2dd",
   "metadata": {},
   "outputs": [],
   "source": [
    "# creating a list\n",
    "list1 = [int(element) for element in input(\"Enter the elements in the list with space between them: \").split()]"
   ]
  },
  {
   "cell_type": "code",
   "execution_count": null,
   "id": "aee73b50-8f2a-445b-9fb5-d149fd358f4f",
   "metadata": {},
   "outputs": [],
   "source": [
    "print('''1. To add elements \n",
    "2. To delete elements\n",
    "3. To modify the list\n",
    "4. To exit ''')"
   ]
  },
  {
   "cell_type": "code",
   "execution_count": null,
   "id": "c3a9ab35-3f7e-4188-91dc-c5e898f4f9a8",
   "metadata": {},
   "outputs": [],
   "source": [
    "while(True):\n",
    "    ch=int(input(\"Enter your choice\"))\n",
    "    match(ch):\n",
    "        case 1:\n",
    "            n = int(input(\"Enter the number of elements u want to add \"))\n",
    "            for i in range(0,n):\n",
    "                ele=int(input(\"Enter the elements\"))\n",
    "                list1.append(ele)\n",
    "            print(\"the list is \",list1)\n",
    "        \n",
    "        case 2:\n",
    "            ele= int(input(\"Enter the element u want to delete \"))\n",
    "            list1.remove(ele)\n",
    "            print(\"the list is \",list1)\n",
    "           \n",
    "        case 3:\n",
    "            pos=int(input(\"Enter the positon of element u want to modify\"))\n",
    "            vale=int(input(\"Enter the value\"))\n",
    "            list1[pos]=vale\n",
    "            print(\"the list is \",list1)\n",
    "        case 4:\n",
    "            break\n",
    "         "
   ]
  },
  {
   "cell_type": "markdown",
   "id": "819cc0ff-9ed4-4df1-81b0-9955ab68efd4",
   "metadata": {},
   "source": [
    "# Dictionary"
   ]
  },
  {
   "cell_type": "code",
   "execution_count": null,
   "id": "31389add-55a1-4a26-ab79-83a1887eb358",
   "metadata": {},
   "outputs": [],
   "source": [
    "print(\"Enter details\")\n",
    "dic={}\n",
    "while(True):\n",
    "    key=input('Enter the key')\n",
    "    if key in dic:\n",
    "        print('Key already exists')\n",
    "    else:\n",
    "        value=input('Enter the value')\n",
    "        dic[key]=value\n",
    "        print('data inserted')\n",
    "    ans=input('Do you want to continue Y/N ?')\n",
    "    if ans in 'nN':\n",
    "        break"
   ]
  },
  {
   "cell_type": "code",
   "execution_count": null,
   "id": "fa2c6467-1cc0-4565-841e-0b922fa7cc9f",
   "metadata": {},
   "outputs": [],
   "source": [
    "print('''1. To add key value pair \n",
    "2. To delete key value pair\n",
    "3. To modify the dictionary\n",
    "4. To exit ''')"
   ]
  },
  {
   "cell_type": "code",
   "execution_count": null,
   "id": "a4643f58-5b3d-40fc-9b45-26887079823f",
   "metadata": {},
   "outputs": [],
   "source": [
    "while(True):\n",
    "    ch=int(input(\"Enter your choice\"))\n",
    "    match(ch):\n",
    "        case 1:\n",
    "            key=input('Enter the key you want to add')\n",
    "            if key in dic:\n",
    "                print('Key already exists')\n",
    "            else:\n",
    "                value=input('Enter the value')\n",
    "                dic[key]=value\n",
    "                print('data inserted')\n",
    "        case 2:\n",
    "            key=input('Enter the key you want to delete')\n",
    "            if key in dic:\n",
    "                del (dic[key])\n",
    "                print('Deleted')\n",
    "            else:\n",
    "                print('No data of that key') \n",
    "        case 3:\n",
    "            key=input('Enter the key you want to modify')\n",
    "            if key in dic:\n",
    "                value=input('Enter the value')\n",
    "                dic[key]=value\n",
    "                print('data inserted')\n",
    "            else:\n",
    "                print('No data of that key') \n",
    "        case 4:\n",
    "            break"
   ]
  },
  {
   "cell_type": "markdown",
   "id": "7159c9d7-86c3-4dc8-b7e8-9eeb8f66707c",
   "metadata": {},
   "source": [
    "# Set"
   ]
  },
  {
   "cell_type": "code",
   "execution_count": null,
   "id": "269a1243-c51c-4785-81c2-5843f5e375ad",
   "metadata": {},
   "outputs": [],
   "source": [
    "set1=set(map(int,input('Enter set elements with space').split()))"
   ]
  },
  {
   "cell_type": "code",
   "execution_count": null,
   "id": "63bd18c4-a859-467b-8ad2-ebe91bee3ec4",
   "metadata": {},
   "outputs": [],
   "source": [
    "print('''1. To add elements \n",
    "2. To delete elements\n",
    "3. To exit ''')"
   ]
  },
  {
   "cell_type": "code",
   "execution_count": null,
   "id": "f93bee86-896e-4715-a47d-924e67199803",
   "metadata": {},
   "outputs": [],
   "source": [
    "while(True):\n",
    "    ch=int(input(\"Enter your choice\"))\n",
    "    match(ch):\n",
    "        case 1:\n",
    "            ele=int(input('Enter the element you want to add'))\n",
    "            set1.add(ele)\n",
    "            print('Element added')\n",
    "            print(set1)\n",
    "        case 2:\n",
    "            ele=int(input(\"Enter the element u want to delete \"))\n",
    "            set1.remove(ele)\n",
    "            print('Element deleted')\n",
    "            print(set1)\n",
    "        case 3:\n",
    "            break"
   ]
  },
  {
   "cell_type": "code",
   "execution_count": null,
   "id": "5da66feb-eae8-4f55-8969-8cdae079bc6c",
   "metadata": {},
   "outputs": [],
   "source": []
  }
 ],
 "metadata": {
  "kernelspec": {
   "display_name": "Python 3 (ipykernel)",
   "language": "python",
   "name": "python3"
  },
  "language_info": {
   "codemirror_mode": {
    "name": "ipython",
    "version": 3
   },
   "file_extension": ".py",
   "mimetype": "text/x-python",
   "name": "python",
   "nbconvert_exporter": "python",
   "pygments_lexer": "ipython3",
   "version": "3.11.7"
  }
 },
 "nbformat": 4,
 "nbformat_minor": 5
}
